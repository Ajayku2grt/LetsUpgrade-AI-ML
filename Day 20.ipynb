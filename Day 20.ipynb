{
 "cells": [
  {
   "cell_type": "markdown",
   "metadata": {},
   "source": [
    "## Question 1:\n",
    "\n",
    "Anova\n",
    "Three archers – Pat, Jack, and Alex are participating in an archery contest. They are shooting at\n",
    "targets with 10 evenly spaced concentric rings. The rings have score values from 1 through 10\n",
    "assigned to them, with 10 being the highest. Each participant shoots 6 arrow, scoring the\n",
    "following points:\n",
    "     Pat – 5, 4, 4, 3, 9, 4 \n",
    "               Jack – 4, 8, 7, 5, 1, 5  \n",
    "                    Alex – 9, 9, 8, 10, 4, 10 "
   ]
  },
  {
   "cell_type": "code",
   "execution_count": 4,
   "metadata": {},
   "outputs": [],
   "source": [
    "import numpy as np\n",
    "from scipy import stats\n",
    " \n"
   ]
  },
  {
   "cell_type": "code",
   "execution_count": 5,
   "metadata": {},
   "outputs": [],
   "source": [
    "data = np.rec.array([\n",
    "('Pat', 5),\n",
    "('Pat', 4),\n",
    "('Pat', 4),\n",
    "('Pat', 3),\n",
    "('Pat', 9),\n",
    "('Pat', 4),\n",
    "('Jack', 4),\n",
    "('Jack', 8),\n",
    "('Jack', 7),\n",
    "('Jack', 5),\n",
    "('Jack', 1),\n",
    "('Jack', 5),\n",
    "('Alex', 9),\n",
    "('Alex', 9),\n",
    "('Alex', 8),\n",
    "('Alex', 10),\n",
    "('Alex', 4),\n",
    "('Alex', 10)], dtype = [('Archer','|U5'),('Score', '<i8')])\n",
    " \n"
   ]
  },
  {
   "cell_type": "code",
   "execution_count": 7,
   "metadata": {},
   "outputs": [
    {
     "name": "stdout",
     "output_type": "stream",
     "text": [
      "One-way ANOVA\n",
      "F value: 4.4882729211087415\n",
      "P value: 0.029667763955533364 \n",
      "\n"
     ]
    }
   ],
   "source": [
    "f, p = stats.f_oneway(data[data['Archer'] == 'Pat'].Score,\n",
    "                      data[data['Archer'] == 'Jack'].Score,\n",
    "                      data[data['Archer'] == 'Alex'].Score)\n",
    " \n",
    "print ('One-way ANOVA')\n",
    "\n",
    " \n",
    "print ('F value:', f)\n",
    "print ('P value:', p, '\\n')"
   ]
  },
  {
   "cell_type": "markdown",
   "metadata": {},
   "source": [
    "As 0.02<=4.48 we reject the null hypothesis and we conclude that at least one of the means is different from at least one other population mean (i.e. not all archers perform equally)."
   ]
  }
 ],
 "metadata": {
  "kernelspec": {
   "display_name": "Python 3",
   "language": "python",
   "name": "python3"
  },
  "language_info": {
   "codemirror_mode": {
    "name": "ipython",
    "version": 3
   },
   "file_extension": ".py",
   "mimetype": "text/x-python",
   "name": "python",
   "nbconvert_exporter": "python",
   "pygments_lexer": "ipython3",
   "version": "3.7.6"
  }
 },
 "nbformat": 4,
 "nbformat_minor": 4
}
