{
 "cells": [
  {
   "cell_type": "markdown",
   "metadata": {},
   "source": [
    "# Question 1\n",
    "Create one array of actual values and another array of predicted values. Compare the two sets\n",
    "with the confusion matrix."
   ]
  },
  {
   "cell_type": "code",
   "execution_count": 13,
   "metadata": {},
   "outputs": [
    {
     "name": "stdout",
     "output_type": "stream",
     "text": [
      "Confusion matrix : \n",
      " [[4 0]\n",
      " [2 5]]\n",
      "Outcomes are tp is 4, fn is 0, fp is 2, tn is 2.\n",
      "Classification report : \n",
      "               precision    recall  f1-score   support\n",
      "\n",
      "           1       0.67      1.00      0.80         4\n",
      "           0       1.00      0.71      0.83         7\n",
      "\n",
      "    accuracy                           0.82        11\n",
      "   macro avg       0.83      0.86      0.82        11\n",
      "weighted avg       0.88      0.82      0.82        11\n",
      "\n"
     ]
    }
   ],
   "source": [
    "#importing \n",
    "from sklearn.metrics import confusion_matrix\n",
    "from sklearn.metrics import classification_report\n",
    "#actual values\n",
    "actual=[1,0,1,0,1,0,1,0,0,0,0]\n",
    "\n",
    "#predicted values\n",
    "predict=[1,0,1,0,1,0,1,0,1,0,1]\n",
    "\n",
    "#matrix\n",
    "matrix = confusion_matrix(actual,predict, labels=[1,0])\n",
    "print('Confusion matrix : \\n',matrix)\n",
    "\n",
    "\n",
    "\n",
    "#outcomes order\n",
    "tp, fn, fp, tn = confusion_matrix(actual,predict,labels=[1,0]).reshape(-1)\n",
    "#print('Outcome values : \\n', tp, fn, fp, tn)\n",
    "print('Outcomes are tp is {0}, fn is {1}, fp is {2}, tn is {3}.'.format(tp,fn,fp, fp, tn))\n",
    "\n",
    "# classification report for precision, recall f1-score and accuracy\n",
    "matrix = classification_report(actual,predict,labels=[1,0])\n",
    "print('Classification report : \\n',matrix)\n"
   ]
  }
 ],
 "metadata": {
  "kernelspec": {
   "display_name": "Python 3",
   "language": "python",
   "name": "python3"
  },
  "language_info": {
   "codemirror_mode": {
    "name": "ipython",
    "version": 3
   },
   "file_extension": ".py",
   "mimetype": "text/x-python",
   "name": "python",
   "nbconvert_exporter": "python",
   "pygments_lexer": "ipython3",
   "version": "3.8.5"
  }
 },
 "nbformat": 4,
 "nbformat_minor": 4
}
