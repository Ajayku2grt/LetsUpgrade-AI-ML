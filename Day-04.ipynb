{
 "cells": [
  {
   "cell_type": "markdown",
   "metadata": {},
   "source": [
    "## Question 1 :\n",
    "Research on whether addition, subtraction, multiplication, division, floor division, and modulo operations\n",
    "be performed on complex numbers. Based on your study, implement a Python program to demonstrate\n",
    "these operations."
   ]
  },
  {
   "cell_type": "code",
   "execution_count": null,
   "metadata": {},
   "outputs": [],
   "source": [
    "print(\"Addition of two complex numbers : \",(4+3j)+(3-7j))\n",
    "print(\"Subtraction of two complex numbers : \",(4+3j)-(3-7j))\n",
    "print(\"Multiplication of two complex numbers : \",(4+3j)*(3-7j))\n",
    "print(\"Division of two complex numbers : \",(4+3j)/(3-7j))\n",
    "print(\" floor division of two complex numbers : \",(4+3j)//(3-7j))"
   ]
  },
  {
   "cell_type": "code",
   "execution_count": null,
   "metadata": {},
   "outputs": [],
   "source": [
    "# Floor and modulo \n",
    "print(\"Modulo of two complex numbers : \",(4+3j)%(3-7j))\n"
   ]
  },
  {
   "cell_type": "markdown",
   "metadata": {},
   "source": [
    "## Question 2 :\n",
    "Research on range() functions and its parameters. Create a markdown cell and write in your own words\n",
    "(no copy-paste from google please) what you understand about it. Implement a small program of your\n",
    "choice on the same."
   ]
  },
  {
   "cell_type": "markdown",
   "metadata": {},
   "source": [
    "Range(start,stop,step) it is in-built function in python. "
   ]
  },
  {
   "cell_type": "markdown",
   "metadata": {},
   "source": [
    "Syntax are (start,stop,step).\n",
    "(1) start: The start index is an integer, and if not given, the default value is 0.\n",
    "(2)stop: It is mandatory to give input to range function.And the last value always will be less than stop value.\n",
    "(3) step: If not given it will be incremented by 1. "
   ]
  },
  {
   "cell_type": "code",
   "execution_count": null,
   "metadata": {},
   "outputs": [],
   "source": [
    "for i in range(0, 15,2):\n",
    "    print(i, end =\" \")"
   ]
  },
  {
   "cell_type": "markdown",
   "metadata": {},
   "source": [
    "## Question 3:\n",
    "Consider two numbers. Perform their subtraction and if the result of subtraction is greater than 25, print\n",
    "their multiplication result else print their division result."
   ]
  },
  {
   "cell_type": "code",
   "execution_count": 2,
   "metadata": {},
   "outputs": [
    {
     "name": "stdout",
     "output_type": "stream",
     "text": [
      "Enter a value:45\n",
      "Enter b value:5\n",
      "Multiplication of a&b: 225\n"
     ]
    }
   ],
   "source": [
    "a=int(input('Enter a value:'))\n",
    "b=int(input('Enter b value:'))\n",
    "sub=a-b\n",
    "if (sub > 25):\n",
    "    print(\"Multiplication of a&b:\", (a*b))\n",
    "else:\n",
    "    print('Division of a&b:',(a/b))"
   ]
  },
  {
   "cell_type": "markdown",
   "metadata": {},
   "source": [
    "## Question 4:\n",
    "Consider a list of 10 elements of integer values. If the number in the list is divisible by 2, print the result as\n",
    "\"square of that number minus 2\"."
   ]
  },
  {
   "cell_type": "code",
   "execution_count": 23,
   "metadata": {},
   "outputs": [
    {
     "name": "stdout",
     "output_type": "stream",
     "text": [
      "Square of the number  2\n",
      "Square of the number  14\n",
      "Square of the number  34\n",
      "Square of the number  62\n",
      "Square of the number  98\n"
     ]
    }
   ],
   "source": [
    "for i in range(1,11):\n",
    "    if(i%2==0):\n",
    "        print(\"Square of the number \",(i**2-(2)))"
   ]
  },
  {
   "cell_type": "markdown",
   "metadata": {},
   "source": [
    "## Question 5:\n",
    "Consider a list of 10 elements. Print all the elements in the list which are greater than 7 when that number\n",
    "is divided 2."
   ]
  },
  {
   "cell_type": "code",
   "execution_count": 33,
   "metadata": {},
   "outputs": [
    {
     "name": "stdout",
     "output_type": "stream",
     "text": [
      " greater than 7 are: 8\n",
      " greater than 7 are: 10\n"
     ]
    }
   ],
   "source": [
    "for i in range(1,11):\n",
    "    if(i%2==0 and i>7):\n",
    "        print(\" greater than 7 are:\", i)"
   ]
  }
 ],
 "metadata": {
  "kernelspec": {
   "display_name": "Python 3",
   "language": "python",
   "name": "python3"
  },
  "language_info": {
   "codemirror_mode": {
    "name": "ipython",
    "version": 3
   },
   "file_extension": ".py",
   "mimetype": "text/x-python",
   "name": "python",
   "nbconvert_exporter": "python",
   "pygments_lexer": "ipython3",
   "version": "3.7.6"
  }
 },
 "nbformat": 4,
 "nbformat_minor": 4
}
