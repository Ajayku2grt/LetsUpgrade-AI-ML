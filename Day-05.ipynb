{
 "cells": [
  {
   "cell_type": "markdown",
   "metadata": {},
   "source": [
    "## Question 1 :\n",
    "Write a Python program to find the first 20 non-even prime natural numbers.\n"
   ]
  },
  {
   "cell_type": "code",
   "execution_count": 5,
   "metadata": {},
   "outputs": [
    {
     "name": "stdout",
     "output_type": "stream",
     "text": [
      "Prime numbers between 1, 3 and 21\n",
      "5\n",
      "7\n",
      "11\n",
      "13\n",
      "17\n",
      "19\n"
     ]
    }
   ],
   "source": [
    "number = int(input(\"Prime numbers between 1, 3 and \")) \n",
    "for i in range(1,number):\n",
    "    for j in range(2,int(i/2)+1):\n",
    "        if i%j==0:\n",
    "            break\n",
    "        else:\n",
    "            if j==int(i/2):\n",
    "                print(i)"
   ]
  },
  {
   "cell_type": "markdown",
   "metadata": {},
   "source": [
    "\n",
    "## Question 2 :\n",
    "Write a Python program to implement 15 functions of string.\n"
   ]
  },
  {
   "cell_type": "code",
   "execution_count": 4,
   "metadata": {},
   "outputs": [
    {
     "name": "stdout",
     "output_type": "stream",
     "text": [
      "Enter a Word:letsupgrade @are repository functions\n",
      "Entered value: letsupgrade @are repository functions\n",
      "1: Letsupgrade @are repository functions\n",
      "2: letsupgrade @are repository functions\n",
      "3: 2\n",
      "4: False\n",
      "5: False\n",
      "6: True\n",
      "7: False\n",
      "8: False\n",
      "9: False\n",
      "10: True\n",
      "11: False\n",
      "12: True\n",
      "13: False\n",
      "14: letsupgrade @are repository functions\n",
      "15: LETSUPGRADE @ARE REPOSITORY FUNCTIONS\n"
     ]
    }
   ],
   "source": [
    "string =input(\"Enter a Word:\")\n",
    "print(\"Entered value:\",string)\n",
    "print('1:',string.capitalize())\n",
    "print('2:',string.casefold())\n",
    "print('3:',string.count(\"a\"))\n",
    "print('4:',string.isalnum())\n",
    "print('5:',string.isalpha())\n",
    "print('6:',string.isascii())\n",
    "print('7:',string.isdecimal())\n",
    "print('8:',string.isdigit())\n",
    "print('9:',string.isidentifier())\n",
    "print('10:',string.islower())\n",
    "print('11:',string.isnumeric())\n",
    "print('12:',string.isprintable())\n",
    "print('13:',string.isspace())\n",
    "print('14:',string.lower())\n",
    "print('15:',string.upper())"
   ]
  },
  {
   "cell_type": "markdown",
   "metadata": {},
   "source": [
    "## Question 3:\n",
    "Write a Python program to check if the given string is a Palindrome or Anagram or None of them. Display\n",
    "the message accordingly to the user.\n"
   ]
  },
  {
   "cell_type": "code",
   "execution_count": 3,
   "metadata": {},
   "outputs": [
    {
     "name": "stdout",
     "output_type": "stream",
     "text": [
      "Enter Your Word a: listen\n",
      "Enter Your Word b: silent\n",
      "String is anagram\n"
     ]
    }
   ],
   "source": [
    "a = input(\"Enter Your Word a: \")\n",
    "b = input(\"Enter Your Word b: \")\n",
    "if a[0:]== a[::-1]:\n",
    "    print(\"String is Palindrome\")\n",
    "elif sorted(a)==sorted(b):\n",
    "    print(\"String is anagram\")\n",
    "else:\n",
    "    print(\"None of the Above\")"
   ]
  },
  {
   "cell_type": "markdown",
   "metadata": {},
   "source": [
    "## Question 4:\n",
    "Write a Python's user-defined function that removes all the additional characters from the string and\n",
    "convert it finally to lower case using built-in lower(). eg: If the string is \"Dr. Darshan Ingle @AIML Trainer\",\n",
    "then the output be \"drdarshaningleaimltrainer\"."
   ]
  },
  {
   "cell_type": "code",
   "execution_count": 2,
   "metadata": {},
   "outputs": [
    {
     "name": "stdout",
     "output_type": "stream",
     "text": [
      "signoftimeharrystyle\n"
     ]
    }
   ],
   "source": [
    "def rew(a):\n",
    "    s1=a.replace(\"@\",\" \")\n",
    "    e2=s1.replace(\".\",\"\")\n",
    "    r3=e2.replace(\" \", \"\")\n",
    "    w=r3.replace(\"-\",\"\")\n",
    "    print(w)\n",
    "a=\"Sign of Time. @harry-style\"    \n",
    "rew(a.lower())"
   ]
  }
 ],
 "metadata": {
  "kernelspec": {
   "display_name": "Python 3",
   "language": "python",
   "name": "python3"
  },
  "language_info": {
   "codemirror_mode": {
    "name": "ipython",
    "version": 3
   },
   "file_extension": ".py",
   "mimetype": "text/x-python",
   "name": "python",
   "nbconvert_exporter": "python",
   "pygments_lexer": "ipython3",
   "version": "3.7.6"
  }
 },
 "nbformat": 4,
 "nbformat_minor": 4
}
