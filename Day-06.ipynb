{
 "cells": [
  {
   "cell_type": "markdown",
   "metadata": {},
   "source": [
    "## Question 1\n",
    "Assuming that we have some email addresses in the \" username@companyname.com\" format, please write a program to print the company name of a given email address. Both user names and company names are composed of letters only.\n"
   ]
  },
  {
   "cell_type": "code",
   "execution_count": 2,
   "metadata": {},
   "outputs": [
    {
     "name": "stdout",
     "output_type": "stream",
     "text": [
      "Email address:qwerty@mars.com\n",
      "Company Name: mars\n"
     ]
    }
   ],
   "source": [
    "x = input(\"Email address:\")\n",
    "y = x.index(\"@\")\n",
    "print(\"Company Name:\",x[y+1:len(x)-4])"
   ]
  },
  {
   "cell_type": "markdown",
   "metadata": {},
   "source": [
    "## Question 2\n",
    "Write a program that accepts a comma-separated sequence of words as input and prints the words in a comma-separated sequence after sorting them alphabetically."
   ]
  },
  {
   "cell_type": "code",
   "execution_count": 4,
   "metadata": {},
   "outputs": [
    {
     "name": "stdout",
     "output_type": "stream",
     "text": [
      "Input:\n",
      " Viva,Shiva,aja,qwe\n",
      "Output:\n",
      " Shiva,Viva,aja,qwe\n"
     ]
    }
   ],
   "source": [
    "items = input(\"Input:\\n \")\n",
    "words = [word for word in items.split(\",\")]\n",
    "print(\"Output:\\n\",\",\".join(sorted(words)))"
   ]
  },
  {
   "cell_type": "markdown",
   "metadata": {},
   "source": [
    "## Question 3\n",
    "Create your own Jupyter Notebook for Sets."
   ]
  },
  {
   "cell_type": "code",
   "execution_count": 23,
   "metadata": {},
   "outputs": [
    {
     "name": "stdout",
     "output_type": "stream",
     "text": [
      "{'Jack', 'College', 'Computer', 'Sparrow'}\n"
     ]
    },
    {
     "data": {
      "text/plain": [
       "{'Cricket', 'Football', 'Polo'}"
      ]
     },
     "execution_count": 23,
     "metadata": {},
     "output_type": "execute_result"
    }
   ],
   "source": [
    "#Create a Set:\n",
    "thisset = {\"Jack\", \"Computer\", \"Sparrow\",\"College\"}\n",
    "print(thisset)\n",
    "{'Cricket', 'Football', 'Polo'}\n",
    "\n",
    "\n"
   ]
  },
  {
   "cell_type": "code",
   "execution_count": 24,
   "metadata": {},
   "outputs": [
    {
     "name": "stdout",
     "output_type": "stream",
     "text": [
      "Dig\n",
      "Polo\n",
      "Cricket\n",
      "Computer\n"
     ]
    }
   ],
   "source": [
    "#Loop through the set, and print the values:\n",
    "thisset = {\"Cricket\", \"Computer\", \"Polo\",\"Dig\"}\n",
    "for x in thisset:\n",
    "  print(x)\n"
   ]
  },
  {
   "cell_type": "code",
   "execution_count": 25,
   "metadata": {},
   "outputs": [
    {
     "name": "stdout",
     "output_type": "stream",
     "text": [
      "{'Pop', 'Polo', 'Cricket', 'Football'}\n"
     ]
    },
    {
     "data": {
      "text/plain": [
       "{'Cricket', 'Football', 'Polo', 'Volleyball'}"
      ]
     },
     "execution_count": 25,
     "metadata": {},
     "output_type": "execute_result"
    }
   ],
   "source": [
    "#Add an item to a set, using the add() method:\n",
    "thisset = {\"Cricket\", \"Football\", \"Polo\",\"Pop\"}\n",
    "thisset.add(\"Polo\")\n",
    "print(thisset)\n",
    "{'Volleyball', 'Cricket', 'Football', 'Polo'}\n",
    "\n"
   ]
  },
  {
   "cell_type": "code",
   "execution_count": 26,
   "metadata": {},
   "outputs": [
    {
     "name": "stdout",
     "output_type": "stream",
     "text": [
      "{'Polo', 'Cricket', 'volleyball', 'carrom', 'Football', 'rugby', 'Horse'}\n"
     ]
    },
    {
     "data": {
      "text/plain": [
       "{'Cricket', 'Football', 'Polo', 'carrom', 'rugby', 'volleyball'}"
      ]
     },
     "execution_count": 26,
     "metadata": {},
     "output_type": "execute_result"
    }
   ],
   "source": [
    "#Add multiple items to a set, using the update() method:\n",
    "thisset = {\"Cricket\", \"Football\", \"Polo\"}\n",
    "thisset.update([\"carrom\", \"volleyball\", \"rugby\",\"Horse\"])\n",
    "print(thisset)\n",
    "{'carrom', 'Cricket', 'Polo', 'volleyball', 'rugby', 'Football'}\n"
   ]
  },
  {
   "cell_type": "code",
   "execution_count": 38,
   "metadata": {},
   "outputs": [
    {
     "name": "stdout",
     "output_type": "stream",
     "text": [
      "{'David', ' Bat', 'Football'}\n"
     ]
    }
   ],
   "source": [
    "#Remove \"Zebra\" by using the remove() method:\n",
    "thisset = {\"David\", \"Football\", \" Bat\",\"Zebra\"}\n",
    "thisset.remove(\"Zebra\")\n",
    "print(thisset)"
   ]
  },
  {
   "cell_type": "markdown",
   "metadata": {},
   "source": [
    "## Question 4\n",
    "Given a list of n-1 numbers ranging from 1 to n, your task is to find the missing number. There are no duplicates.\n"
   ]
  },
  {
   "cell_type": "code",
   "execution_count": 37,
   "metadata": {},
   "outputs": [
    {
     "name": "stdout",
     "output_type": "stream",
     "text": [
      "9.0\n"
     ]
    }
   ],
   "source": [
    "def missing_number(list_num): \n",
    "    n = len(list_num) \n",
    "    orig_sum = ((n+1)*(n+2)/2) \n",
    "    new_sum = sum(list_num) \n",
    "    missing_number = (orig_sum-new_sum) \n",
    "    return missing_number \n",
    "\n",
    "list_num=[1, 2, 3, 5, 6, 4, 7, 8, 10]\n",
    "miss = missing_number(list_num)\n",
    "print(miss)"
   ]
  },
  {
   "cell_type": "markdown",
   "metadata": {},
   "source": [
    "## Question 5\n",
    "With a given list L, write a program to print this list L after removing all duplicate values with original order reserved."
   ]
  },
  {
   "cell_type": "code",
   "execution_count": 36,
   "metadata": {},
   "outputs": [
    {
     "name": "stdout",
     "output_type": "stream",
     "text": [
      "[4, 7, 10, 20, 5, 2]\n"
     ]
    }
   ],
   "source": [
    "def Remove(duplicate): \n",
    "    final_list = [] \n",
    "    for num in duplicate: \n",
    "        if num not in final_list: \n",
    "            final_list.append(num) \n",
    "    return final_list \n",
    "      \n",
    "duplicate = [4, 7, 10, 20, 5, 2, 20, 7, 4] \n",
    "print(Remove(duplicate))"
   ]
  }
 ],
 "metadata": {
  "kernelspec": {
   "display_name": "Python 3",
   "language": "python",
   "name": "python3"
  },
  "language_info": {
   "codemirror_mode": {
    "name": "ipython",
    "version": 3
   },
   "file_extension": ".py",
   "mimetype": "text/x-python",
   "name": "python",
   "nbconvert_exporter": "python",
   "pygments_lexer": "ipython3",
   "version": "3.7.6"
  }
 },
 "nbformat": 4,
 "nbformat_minor": 2
}
