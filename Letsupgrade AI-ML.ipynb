{
 "cells": [
  {
   "cell_type": "markdown",
   "metadata": {},
   "source": [
    "Day-03\n",
    "## Question 1\n",
    "Write a program to subtract two complex numbers in Python."
   ]
  },
  {
   "cell_type": "code",
   "execution_count": 1,
   "metadata": {},
   "outputs": [
    {
     "name": "stdout",
     "output_type": "stream",
     "text": [
      "(-1+3.7j)\n"
     ]
    }
   ],
   "source": [
    "a = 4+ 6j\n",
    "b = 5+ 2.3j\n",
    "c = a - b\n",
    "print(c)"
   ]
  },
  {
   "cell_type": "markdown",
   "metadata": {},
   "source": [
    "## Question 2 :\n",
    "Write a program to find the fourth root of a number."
   ]
  },
  {
   "cell_type": "code",
   "execution_count": 10,
   "metadata": {},
   "outputs": [
    {
     "name": "stdout",
     "output_type": "stream",
     "text": [
      "Enter the number:256\n",
      "4.0\n"
     ]
    }
   ],
   "source": [
    "import math\n",
    "a=input('Enter the number:')\n",
    "x=int(a)\n",
    "rt=math.pow(x,0.25)\n",
    "print(rt)"
   ]
  },
  {
   "cell_type": "markdown",
   "metadata": {},
   "source": [
    "## Question 3\n",
    "Write a program to swap two numbers in Python with the help of a temporary variable."
   ]
  },
  {
   "cell_type": "code",
   "execution_count": 9,
   "metadata": {},
   "outputs": [
    {
     "name": "stdout",
     "output_type": "stream",
     "text": [
      "Enter the number:23\n",
      "Enter the number:45\n",
      "a: 23\n",
      "b: 45\n",
      "('45', '23')\n"
     ]
    }
   ],
   "source": [
    "a=input('Enter the number:')\n",
    "b=input('Enter the number:')\n",
    "print('a:',a)\n",
    "print('b:',b)\n",
    "c=a,b=b,a\n",
    "print(c)"
   ]
  },
  {
   "cell_type": "markdown",
   "metadata": {},
   "source": [
    "## Question 4\n",
    "Write a program to swap two numbers in Python without using a temporary variable."
   ]
  },
  {
   "cell_type": "code",
   "execution_count": 19,
   "metadata": {},
   "outputs": [
    {
     "name": "stdout",
     "output_type": "stream",
     "text": [
      "54\n",
      "12\n"
     ]
    }
   ],
   "source": [
    "a=12\n",
    "b=54\n",
    "\n",
    "# now swapping the numbers\n",
    "x = a + b\n",
    "y = x - b \n",
    "x = x - y \n",
    "print(x)\n",
    "print(y)\n",
    "\n",
    "\n",
    "\n",
    "\n"
   ]
  },
  {
   "cell_type": "markdown",
   "metadata": {},
   "source": [
    "## Question 5\n",
    "Write a program to convert Fahrenheit to kelvin and celsius both."
   ]
  },
  {
   "cell_type": "code",
   "execution_count": 25,
   "metadata": {},
   "outputs": [
    {
     "name": "stdout",
     "output_type": "stream",
     "text": [
      "value:98\n",
      "Celcius 36.666666666666664\n",
      "Kelvin 309.81666666666666\n"
     ]
    }
   ],
   "source": [
    "a=input(\"value:\")\n",
    "f=int(a)\n",
    "c=(f-32)*5/9\n",
    "k=c+273.15\n",
    "print(\"Celcius\",c)\n",
    "print(\"Kelvin\",k)"
   ]
  },
  {
   "cell_type": "markdown",
   "metadata": {},
   "source": [
    "## Question 6\n",
    "Write a program to demonstrate all the available data types in Python. Hint: Use type() function."
   ]
  },
  {
   "cell_type": "code",
   "execution_count": 32,
   "metadata": {},
   "outputs": [
    {
     "name": "stdout",
     "output_type": "stream",
     "text": [
      "a: <class 'int'>\n",
      "b: <class 'float'>\n",
      "c: <class 'complex'>\n",
      "d: <class 'list'>\n",
      "e: <class 'tuple'>\n",
      "f: <class 'dict'>\n"
     ]
    }
   ],
   "source": [
    "a = 1234567890123456789\n",
    "print('a:',type(a))\n",
    "\n",
    "b = 0.1234567890123456789\n",
    "print('b:',type(b))\n",
    "\n",
    "c = 1+2j\n",
    "print('c:',type(c))\n",
    "\n",
    "d = [\"apple\", \"banana\", \"Life\"]\n",
    "print('d:',type(d))\n",
    "\n",
    "e = (\"apple\", \"banana\", \"cherry\")\n",
    "print('e:',type(e))\n",
    "\n",
    "f = {\"name\" : \"Zac\", \"age\" : 36}\n",
    "print('f:',type(f))\n"
   ]
  },
  {
   "cell_type": "code",
   "execution_count": null,
   "metadata": {},
   "outputs": [],
   "source": []
  }
 ],
 "metadata": {
  "kernelspec": {
   "display_name": "Python 3",
   "language": "python",
   "name": "python3"
  },
  "language_info": {
   "codemirror_mode": {
    "name": "ipython",
    "version": 3
   },
   "file_extension": ".py",
   "mimetype": "text/x-python",
   "name": "python",
   "nbconvert_exporter": "python",
   "pygments_lexer": "ipython3",
   "version": "3.7.6"
  }
 },
 "nbformat": 4,
 "nbformat_minor": 4
}
